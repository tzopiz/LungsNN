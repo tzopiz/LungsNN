{
 "cells": [
  {
   "cell_type": "markdown",
   "source": [
    "# LunksNN"
   ],
   "metadata": {
    "collapsed": false
   },
   "id": "2ae7c9587ca147a6"
  },
  {
   "cell_type": "code",
   "execution_count": null,
   "id": "initial_id",
   "metadata": {
    "collapsed": true
   },
   "outputs": [],
   "source": [
    "!pip install accelerate\n",
    "import numpy as np\n",
    "import albumentations\n",
    "import random\n",
    "import torch\n",
    "import os\n",
    "\n",
    "from pycocotools.coco import COCO\n",
    "from albumentations.pytorch.transforms import ToTensorV2\n",
    "from accelerate import Accelerator\n",
    "from torch.utils.data import DataLoader\n",
    "from torch.nn import functional as F\n",
    "from matplotlib import pyplot as plt\n",
    "from os.path import join as pjoin\n",
    "from main import create_masks_for_all_images\n",
    "from dataset import LunksDataset\n",
    "from Unet import UNet, count_model_params\n",
    "from metric import Dice\n",
    "from loss import BCEDiceBoundaryLoss\n",
    "from train import (\n",
    "    CheckpointSaver,\n",
    "    IoUMetric,\n",
    "    MulticlassCrossEntropyLoss,\n",
    "    MulticlassDiceLoss,\n",
    "    load_checkpoint,\n",
    "    train\n",
    ")"
   ]
  },
  {
   "cell_type": "code",
   "outputs": [],
   "source": [
    "def seed_everything(seed: int = 314159, torch_deterministic: bool = False) -> None:\n",
    "    os.environ[\"PYTHONHASHSEED\"] = str(seed)\n",
    "    random.seed(seed)\n",
    "    np.random.seed(seed)\n",
    "    torch.manual_seed(seed)\n",
    "    torch.cuda.manual_seed(seed)\n",
    "    torch.use_deterministic_algorithms(torch_deterministic)\n",
    "\n",
    "\n",
    "seed_everything(42, torch_deterministic=False)"
   ],
   "metadata": {
    "collapsed": false
   },
   "id": "872d6b58da478b94",
   "execution_count": null
  },
  {
   "cell_type": "code",
   "outputs": [],
   "source": [
    "annFile = 'instances_default.json'\n",
    "coco = COCO(annFile)\n",
    "\n",
    "create_masks_for_all_images(coco, \"Dataset/Masks\")"
   ],
   "metadata": {
    "collapsed": false
   },
   "id": "3393261bec1b1d6d",
   "execution_count": null
  },
  {
   "cell_type": "code",
   "outputs": [],
   "source": [
    "IMAGE_SIZE = 256\n",
    "transforms = albumentations.Compose(\n",
    "    [\n",
    "        albumentations.Resize(height=IMAGE_SIZE, width=IMAGE_SIZE),\n",
    "        ToTensorV2(),\n",
    "    ]\n",
    ")"
   ],
   "metadata": {
    "collapsed": false
   },
   "id": "5a95d347c8c6b17c",
   "execution_count": null
  },
  {
   "cell_type": "code",
   "outputs": [],
   "source": [
    "train_dataset = LunksDataset(root_dir=\"Dataset\", transforms=transforms)\n",
    "val_dataset = LunksDataset(root_dir=\"Dataset\", transforms=transforms)"
   ],
   "metadata": {
    "collapsed": false
   },
   "id": "1fb600c0447d7b99",
   "execution_count": null
  },
  {
   "cell_type": "code",
   "outputs": [],
   "source": [
    "accelerator = Accelerator(cpu=False, mixed_precision=\"fp16\")"
   ],
   "metadata": {
    "collapsed": false
   },
   "id": "41e9996bef113611",
   "execution_count": null
  },
  {
   "cell_type": "code",
   "outputs": [],
   "source": [
    "LEARNING_RATE = 1e-4\n",
    "BATCH_SIZE = 4\n",
    "NUM_WORKERS = 2\n",
    "EPOCH_NUM = 20\n",
    "CHECKPOINTS_DIR = \"checkpoints\"\n",
    "TENSORBOARD_DIR = \"tensorboard\"\n",
    "RM_CHECKPOINTS_DIR = False\n",
    "\n",
    "DEVICE = \"cuda\" if torch.cuda.is_available() else \"cpu\""
   ],
   "metadata": {
    "collapsed": false
   },
   "id": "b5a9bfce52e8262a",
   "execution_count": null
  },
  {
   "cell_type": "code",
   "outputs": [],
   "source": [
    "train_dataloader = DataLoader(\n",
    "    train_dataset, batch_size=BATCH_SIZE, num_workers=NUM_WORKERS, shuffle=True\n",
    ")\n",
    "val_dataloader = DataLoader(\n",
    "    val_dataset, batch_size=BATCH_SIZE, num_workers=NUM_WORKERS, shuffle=True\n",
    ")\n",
    "\n",
    "model = UNet(in_channels=3, out_channels=1)\n",
    "\n",
    "loss_fn = BCEDiceBoundaryLoss()\n",
    "optimizer = torch.optim.AdamW(model.parameters(), lr=LEARNING_RATE)\n",
    "lr_scheduler = torch.optim.lr_scheduler.StepLR(\n",
    "    optimizer=optimizer, step_size=5, gamma=0.8\n",
    ")\n",
    "metric_fn = Dice()\n",
    "\n",
    "os.makedirs(CHECKPOINTS_DIR, exist_ok=True)\n",
    "checkpointer = CheckpointSaver(\n",
    "    accelerator=accelerator,\n",
    "    model=model,\n",
    "    metric_name=\"DICE\",\n",
    "    save_dir=CHECKPOINTS_DIR,\n",
    "    rm_save_dir=RM_CHECKPOINTS_DIR,\n",
    "    max_history=5,\n",
    "    should_minimize=True,\n",
    ")"
   ],
   "metadata": {
    "collapsed": false
   },
   "id": "acbcf020ae117519",
   "execution_count": null
  },
  {
   "cell_type": "code",
   "outputs": [],
   "source": [
    "os.makedirs(TENSORBOARD_DIR, exist_ok=True)\n",
    "tensorboard_logger = torch.utils.tensorboard.SummaryWriter(log_dir=TENSORBOARD_DIR)"
   ],
   "metadata": {
    "collapsed": false
   },
   "id": "17050396c8c04b3c",
   "execution_count": null
  },
  {
   "cell_type": "code",
   "outputs": [],
   "source": [
    "model, optimizer, train_dataloader, val_dataloader, lr_scheduler = accelerator.prepare(\n",
    "    model, optimizer, train_dataloader, val_dataloader, lr_scheduler\n",
    ")"
   ],
   "metadata": {
    "collapsed": false
   },
   "id": "f9849f78977eac63",
   "execution_count": null
  },
  {
   "cell_type": "code",
   "outputs": [],
   "source": [
    "train(\n",
    "    model=model,\n",
    "    optimizer=optimizer,\n",
    "    train_dataloader=train_dataloader,\n",
    "    val_dataloader=val_dataloader,\n",
    "    loss_function=loss_fn,\n",
    "    metric_function=metric_fn,\n",
    "    lr_scheduler=lr_scheduler,\n",
    "    accelerator=accelerator,\n",
    "    epoch_num=EPOCH_NUM,\n",
    "    checkpointer=checkpointer,\n",
    "    tb_logger=tensorboard_logger,\n",
    "    save_on_val=True,\n",
    ")"
   ],
   "metadata": {
    "collapsed": false
   },
   "id": "f9b77c8ad0ae9b77",
   "execution_count": null
  },
  {
   "cell_type": "code",
   "outputs": [],
   "source": [
    "model = UNet(in_channels=3, out_channels=1)\n",
    "model = load_checkpoint(\n",
    "    model=model, load_path=pjoin(CHECKPOINTS_DIR, \"model_checkpoint_best.pt\")\n",
    ")\n",
    "model = model.to(DEVICE)\n",
    "model.eval()"
   ],
   "metadata": {
    "collapsed": false
   },
   "id": "941ce5ddfc64a7af",
   "execution_count": null
  },
  {
   "cell_type": "code",
   "outputs": [],
   "source": [
    "sample_idx = 2\n",
    "image, target = train_dataset[sample_idx]\n",
    "\n",
    "thresold = 0.8\n",
    "preds = F.sigmoid(model(image.unsqueeze(0).to(DEVICE))).squeeze(0)\n",
    "binary_preds = (preds > thresold)\n",
    "\n",
    "fig, ax = plt.subplots(1, 3, figsize=(9, 18))\n",
    "ax[0].imshow(image.numpy().transpose(1, 2, 0).astype(np.uint8))\n",
    "ax[1].imshow(target.numpy().transpose(1, 2, 0).astype(np.uint8))\n",
    "ax[2].imshow(binary_preds.cpu()[0]);"
   ],
   "metadata": {
    "collapsed": false
   },
   "id": "5d250dadc8b8ea6c"
  }
 ],
 "metadata": {
  "kernelspec": {
   "display_name": "Python 3",
   "language": "python",
   "name": "python3"
  },
  "language_info": {
   "codemirror_mode": {
    "name": "ipython",
    "version": 2
   },
   "file_extension": ".py",
   "mimetype": "text/x-python",
   "name": "python",
   "nbconvert_exporter": "python",
   "pygments_lexer": "ipython2",
   "version": "2.7.6"
  }
 },
 "nbformat": 4,
 "nbformat_minor": 5
}

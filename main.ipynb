{
 "cells": [
  {
   "cell_type": "markdown",
   "source": [
    "# LunksNN"
   ],
   "metadata": {
    "collapsed": false
   },
   "id": "2ae7c9587ca147a6"
  },
  {
   "cell_type": "code",
   "execution_count": null,
   "id": "initial_id",
   "metadata": {
    "collapsed": true
   },
   "outputs": [],
   "source": [
    "from pycocotools.coco import COCO\n",
    "import numpy as np\n",
    "import os\n",
    "from PIL import Image\n",
    "from torchvision.datasets import VOCSegmentation\n",
    "\n",
    "from main import create_masks_for_all_images"
   ]
  },
  {
   "cell_type": "code",
   "outputs": [],
   "source": [
    "annFile = 'instances_default.json'\n",
    "coco = COCO(annFile)\n",
    "\n",
    "create_masks_for_all_images(coco, \"Masks\")"
   ],
   "metadata": {
    "collapsed": false
   },
   "id": "3393261bec1b1d6d"
  },
  {
   "cell_type": "code",
   "outputs": [],
   "source": [
    "train_dataset = VOCSegmentation(root=\"Lunks\")"
   ],
   "metadata": {
    "collapsed": false
   },
   "id": "1fb600c0447d7b99"
  }
 ],
 "metadata": {
  "kernelspec": {
   "display_name": "Python 3",
   "language": "python",
   "name": "python3"
  },
  "language_info": {
   "codemirror_mode": {
    "name": "ipython",
    "version": 2
   },
   "file_extension": ".py",
   "mimetype": "text/x-python",
   "name": "python",
   "nbconvert_exporter": "python",
   "pygments_lexer": "ipython2",
   "version": "2.7.6"
  }
 },
 "nbformat": 4,
 "nbformat_minor": 5
}

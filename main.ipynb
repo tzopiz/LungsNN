{
 "cells": [
  {
   "cell_type": "markdown",
   "source": [
    "# Сегментация радионуклидных изображений легких"
   ],
   "metadata": {
    "collapsed": false
   },
   "id": "2ae7c9587ca147a6"
  },
  {
   "cell_type": "code",
   "execution_count": 1,
   "id": "initial_id",
   "metadata": {
    "collapsed": true,
    "ExecuteTime": {
     "end_time": "2024-05-23T17:32:44.432758Z",
     "start_time": "2024-05-23T17:32:40.453222Z"
    }
   },
   "outputs": [
    {
     "name": "stdout",
     "output_type": "stream",
     "text": [
      "Requirement already satisfied: accelerate in ./.venv/lib/python3.12/site-packages (0.29.3)\r\n",
      "Requirement already satisfied: numpy>=1.17 in ./.venv/lib/python3.12/site-packages (from accelerate) (1.26.4)\r\n",
      "Requirement already satisfied: packaging>=20.0 in ./.venv/lib/python3.12/site-packages (from accelerate) (24.0)\r\n",
      "Requirement already satisfied: psutil in ./.venv/lib/python3.12/site-packages (from accelerate) (5.9.8)\r\n",
      "Requirement already satisfied: pyyaml in ./.venv/lib/python3.12/site-packages (from accelerate) (6.0.1)\r\n",
      "Requirement already satisfied: torch>=1.10.0 in ./.venv/lib/python3.12/site-packages (from accelerate) (2.2.2)\r\n",
      "Requirement already satisfied: huggingface-hub in ./.venv/lib/python3.12/site-packages (from accelerate) (0.22.2)\r\n",
      "Requirement already satisfied: safetensors>=0.3.1 in ./.venv/lib/python3.12/site-packages (from accelerate) (0.4.3)\r\n",
      "Requirement already satisfied: filelock in ./.venv/lib/python3.12/site-packages (from torch>=1.10.0->accelerate) (3.13.4)\r\n",
      "Requirement already satisfied: typing-extensions>=4.8.0 in ./.venv/lib/python3.12/site-packages (from torch>=1.10.0->accelerate) (4.11.0)\r\n",
      "Requirement already satisfied: sympy in ./.venv/lib/python3.12/site-packages (from torch>=1.10.0->accelerate) (1.12)\r\n",
      "Requirement already satisfied: networkx in ./.venv/lib/python3.12/site-packages (from torch>=1.10.0->accelerate) (3.3)\r\n",
      "Requirement already satisfied: jinja2 in ./.venv/lib/python3.12/site-packages (from torch>=1.10.0->accelerate) (3.1.3)\r\n",
      "Requirement already satisfied: fsspec in ./.venv/lib/python3.12/site-packages (from torch>=1.10.0->accelerate) (2024.3.1)\r\n",
      "Requirement already satisfied: requests in ./.venv/lib/python3.12/site-packages (from huggingface-hub->accelerate) (2.31.0)\r\n",
      "Requirement already satisfied: tqdm>=4.42.1 in ./.venv/lib/python3.12/site-packages (from huggingface-hub->accelerate) (4.66.2)\r\n",
      "Requirement already satisfied: MarkupSafe>=2.0 in ./.venv/lib/python3.12/site-packages (from jinja2->torch>=1.10.0->accelerate) (2.1.5)\r\n",
      "Requirement already satisfied: charset-normalizer<4,>=2 in ./.venv/lib/python3.12/site-packages (from requests->huggingface-hub->accelerate) (3.3.2)\r\n",
      "Requirement already satisfied: idna<4,>=2.5 in ./.venv/lib/python3.12/site-packages (from requests->huggingface-hub->accelerate) (3.7)\r\n",
      "Requirement already satisfied: urllib3<3,>=1.21.1 in ./.venv/lib/python3.12/site-packages (from requests->huggingface-hub->accelerate) (2.2.1)\r\n",
      "Requirement already satisfied: certifi>=2017.4.17 in ./.venv/lib/python3.12/site-packages (from requests->huggingface-hub->accelerate) (2024.2.2)\r\n",
      "Requirement already satisfied: mpmath>=0.19 in ./.venv/lib/python3.12/site-packages (from sympy->torch>=1.10.0->accelerate) (1.3.0)\r\n"
     ]
    }
   ],
   "source": [
    "!pip install accelerate\n",
    "\n",
    "import numpy as np\n",
    "import albumentations\n",
    "import random\n",
    "import torch\n",
    "import os\n",
    "\n",
    "from pycocotools.coco import COCO\n",
    "from albumentations.pytorch.transforms import ToTensorV2\n",
    "from accelerate import Accelerator\n",
    "from torch.utils.data import DataLoader, random_split\n",
    "from torch.nn import functional as F\n",
    "from matplotlib import pyplot as plt\n",
    "from os.path import join as pjoin\n",
    "\n",
    "from dataset import LungsDataset, create_masks_for_all_images\n",
    "from Model.Unet import UNet, count_model_params\n",
    "from Model.MeanIoU import MeanIoU\n",
    "from Model.DiceLoss import DiceLoss\n",
    "from Model.train import train, CheckpointSaver, load_checkpoint"
   ]
  },
  {
   "cell_type": "code",
   "outputs": [],
   "source": [
    "def seed_everything(seed: int = 314159, torch_deterministic: bool = False) -> None:\n",
    "    os.environ[\"PYTHONHASHSEED\"] = str(seed)\n",
    "    random.seed(seed)\n",
    "    np.random.seed(seed)\n",
    "    torch.manual_seed(seed)\n",
    "    torch.cuda.manual_seed(seed)\n",
    "    torch.use_deterministic_algorithms(torch_deterministic)\n",
    "\n",
    "\n",
    "seed_everything(42, torch_deterministic=False)"
   ],
   "metadata": {
    "collapsed": false,
    "ExecuteTime": {
     "end_time": "2024-05-23T17:32:44.438423Z",
     "start_time": "2024-05-23T17:32:44.432825Z"
    }
   },
   "id": "872d6b58da478b94",
   "execution_count": 2
  },
  {
   "cell_type": "code",
   "outputs": [
    {
     "name": "stdout",
     "output_type": "stream",
     "text": [
      "loading annotations into memory...\n",
      "Done (t=0.00s)\n",
      "creating index...\n",
      "index created!\n"
     ]
    }
   ],
   "source": [
    "annFile = 'instances_default.json'\n",
    "coco = COCO(annFile)\n",
    "\n",
    "create_masks_for_all_images(coco, \"Data/Masks\")"
   ],
   "metadata": {
    "collapsed": false,
    "ExecuteTime": {
     "end_time": "2024-05-23T17:32:45.603671Z",
     "start_time": "2024-05-23T17:32:44.439318Z"
    }
   },
   "id": "3393261bec1b1d6d",
   "execution_count": 3
  },
  {
   "cell_type": "code",
   "outputs": [],
   "source": [
    "IMAGE_SIZE = 256\n",
    "transforms = albumentations.Compose(\n",
    "    [\n",
    "        albumentations.Resize(height=IMAGE_SIZE, width=IMAGE_SIZE, p=1.0),\n",
    "        albumentations.HorizontalFlip(p=0.5),\n",
    "        ToTensorV2(),\n",
    "    ]\n",
    ")"
   ],
   "metadata": {
    "collapsed": false,
    "ExecuteTime": {
     "end_time": "2024-05-23T17:32:45.609390Z",
     "start_time": "2024-05-23T17:32:45.605234Z"
    }
   },
   "id": "5a95d347c8c6b17c",
   "execution_count": 4
  },
  {
   "cell_type": "code",
   "outputs": [
    {
     "name": "stdout",
     "output_type": "stream",
     "text": [
      "Количество изображений в полном датасете: 27\n",
      "Количество изображений в тренировочном датасете: 18\n",
      "Количество изображений в валидационном датасете: 5\n",
      "Количество изображений в тестовом датасете: 4\n"
     ]
    }
   ],
   "source": [
    "full_dataset = LungsDataset(root_dir=\"Data\", transforms = transforms)\n",
    "train_size = int(0.7 * len(full_dataset))\n",
    "val_size = int(0.2 * len(full_dataset))\n",
    "test_size = len(full_dataset) - train_size - val_size\n",
    "\n",
    "train_dataset, val_dataset, test_dataset = random_split(full_dataset, [train_size, val_size, test_size])\n",
    "\n",
    "print('Количество изображений в полном датасете:',len(full_dataset))\n",
    "print('Количество изображений в тренировочном датасете:',len(train_dataset))\n",
    "print('Количество изображений в валидационном датасете:',len(val_dataset))\n",
    "print('Количество изображений в тестовом датасете:',len(test_dataset))"
   ],
   "metadata": {
    "collapsed": false,
    "ExecuteTime": {
     "end_time": "2024-05-23T17:32:45.618043Z",
     "start_time": "2024-05-23T17:32:45.608140Z"
    }
   },
   "id": "1fb600c0447d7b99",
   "execution_count": 5
  },
  {
   "cell_type": "code",
   "outputs": [],
   "source": [
    "LEARNING_RATE = 1e-4\n",
    "BATCH_SIZE = 4\n",
    "NUM_WORKERS = 2\n",
    "EPOCH_NUM = 20\n",
    "CHECKPOINTS_DIR = \"checkpoints\"\n",
    "TENSORBOARD_DIR = \"tensorboard\"\n",
    "RM_CHECKPOINTS_DIR = False\n",
    "\n",
    "DEVICE = \"cuda\" if torch.cuda.is_available() else \"cpu\""
   ],
   "metadata": {
    "collapsed": false,
    "ExecuteTime": {
     "end_time": "2024-05-23T17:32:45.618836Z",
     "start_time": "2024-05-23T17:32:45.614614Z"
    }
   },
   "id": "b5a9bfce52e8262a",
   "execution_count": 6
  },
  {
   "cell_type": "code",
   "outputs": [
    {
     "name": "stdout",
     "output_type": "stream",
     "text": [
      "(1348, 2022, 3) (1348, 2022)\n"
     ]
    },
    {
     "data": {
      "text/plain": "(tensor([[[ 93.,  93.,  93.,  ...,  93.,  93.,  93.],\n          [255., 255., 255.,  ..., 255., 255., 255.],\n          [255., 255., 255.,  ..., 255., 255., 255.],\n          ...,\n          [255., 255., 255.,  ..., 255., 255., 255.],\n          [255., 255., 255.,  ..., 255., 255., 255.],\n          [ 93.,  93.,  93.,  ...,  93.,  93.,  93.]],\n \n         [[ 93.,  93.,  93.,  ...,  93.,  93.,  93.],\n          [255., 255., 255.,  ..., 255., 195., 255.],\n          [255., 255., 196.,  ..., 174., 255., 255.],\n          ...,\n          [255., 255., 255.,  ..., 255., 253., 255.],\n          [255., 255., 255.,  ..., 255., 255., 255.],\n          [ 93.,  93.,  93.,  ...,  93.,  93.,  93.]],\n \n         [[ 93.,  93.,  93.,  ...,  93.,  93.,  93.],\n          [255., 255., 255.,  ..., 255., 195., 255.],\n          [255., 255., 196.,  ..., 174., 255., 255.],\n          ...,\n          [255., 255., 255.,  ..., 255., 253., 255.],\n          [255., 255., 255.,  ..., 255., 255., 255.],\n          [ 93.,  93.,  93.,  ...,  93.,  93.,  93.]]]),\n tensor([[[0., 0., 0.,  ..., 0., 0., 0.],\n          [0., 0., 0.,  ..., 0., 0., 0.],\n          [0., 0., 0.,  ..., 0., 0., 0.],\n          ...,\n          [0., 0., 0.,  ..., 0., 0., 0.],\n          [0., 0., 0.,  ..., 0., 0., 0.],\n          [0., 0., 0.,  ..., 0., 0., 0.]]]))"
     },
     "execution_count": 11,
     "metadata": {},
     "output_type": "execute_result"
    }
   ],
   "source": [
    "train_dataset[0]"
   ],
   "metadata": {
    "collapsed": false,
    "ExecuteTime": {
     "end_time": "2024-05-23T17:33:22.725972Z",
     "start_time": "2024-05-23T17:33:22.599928Z"
    }
   },
   "id": "eadb6b92874ff5dc",
   "execution_count": 11
  },
  {
   "cell_type": "code",
   "outputs": [
    {
     "data": {
      "text/plain": "17262977"
     },
     "execution_count": 7,
     "metadata": {},
     "output_type": "execute_result"
    }
   ],
   "source": [
    "train_dataloader = DataLoader(\n",
    "    train_dataset, batch_size=BATCH_SIZE, num_workers=NUM_WORKERS, shuffle=True\n",
    ") # (27, 3, 256, 256, 256), (27, 1, 256, 256)\n",
    "val_dataloader = DataLoader(\n",
    "    val_dataset, batch_size=BATCH_SIZE, num_workers=NUM_WORKERS, shuffle=True\n",
    ")\n",
    "test_dataloader = DataLoader(\n",
    "    test_dataset, batch_size=BATCH_SIZE, num_workers=NUM_WORKERS, shuffle=True\n",
    ")\n",
    "\n",
    "model = UNet(in_channels=3, out_channels=1)\n",
    "\n",
    "loss_fn = DiceLoss()\n",
    "metric_fn = MeanIoU()\n",
    "\n",
    "optimizer = torch.optim.AdamW(model.parameters(), lr=LEARNING_RATE)\n",
    "lr_scheduler = torch.optim.lr_scheduler.StepLR(\n",
    "    optimizer=optimizer, step_size=5, gamma=0.8\n",
    ") # уменьшение скорости обучения\n",
    "count_model_params(model=model)"
   ],
   "metadata": {
    "collapsed": false,
    "ExecuteTime": {
     "end_time": "2024-05-23T17:32:45.709990Z",
     "start_time": "2024-05-23T17:32:45.622142Z"
    }
   },
   "id": "acbcf020ae117519",
   "execution_count": 7
  },
  {
   "cell_type": "code",
   "outputs": [
    {
     "name": "stderr",
     "output_type": "stream",
     "text": [
      "/Users/dmitry/Developer/PycharmProjects/LunksNN/.venv/lib/python3.12/site-packages/torch/cuda/amp/grad_scaler.py:126: UserWarning: torch.cuda.amp.GradScaler is enabled, but CUDA is not available.  Disabling.\n",
      "  warnings.warn(\n"
     ]
    }
   ],
   "source": [
    "accelerator = Accelerator(cpu=False, mixed_precision=\"fp16\")\n",
    "os.makedirs(CHECKPOINTS_DIR, exist_ok=True)\n",
    "checkpointer = CheckpointSaver(\n",
    "    accelerator=accelerator,\n",
    "    model=model,\n",
    "    metric_name=\"DICE\",\n",
    "    save_dir=CHECKPOINTS_DIR,\n",
    "    rm_save_dir=RM_CHECKPOINTS_DIR,\n",
    "    max_history=5,\n",
    "    should_minimize=False\n",
    ")"
   ],
   "metadata": {
    "collapsed": false,
    "ExecuteTime": {
     "end_time": "2024-05-23T17:32:45.755536Z",
     "start_time": "2024-05-23T17:32:45.729656Z"
    }
   },
   "id": "1b3a376e932f5ab0",
   "execution_count": 8
  },
  {
   "cell_type": "code",
   "outputs": [],
   "source": [
    "os.makedirs(TENSORBOARD_DIR, exist_ok=True)\n",
    "tensorboard_logger = torch.utils.tensorboard.SummaryWriter(log_dir=TENSORBOARD_DIR)"
   ],
   "metadata": {
    "collapsed": false,
    "ExecuteTime": {
     "end_time": "2024-05-23T17:32:45.756079Z",
     "start_time": "2024-05-23T17:32:45.735528Z"
    }
   },
   "id": "17050396c8c04b3c",
   "execution_count": 9
  },
  {
   "cell_type": "code",
   "outputs": [
    {
     "ename": "RuntimeError",
     "evalue": "User specified an unsupported autocast device_type 'mps'",
     "output_type": "error",
     "traceback": [
      "\u001B[0;31m---------------------------------------------------------------------------\u001B[0m",
      "\u001B[0;31mRuntimeError\u001B[0m                              Traceback (most recent call last)",
      "Cell \u001B[0;32mIn[10], line 1\u001B[0m\n\u001B[0;32m----> 1\u001B[0m model, optimizer, train_dataloader, val_dataloader, lr_scheduler \u001B[38;5;241m=\u001B[39m \u001B[43maccelerator\u001B[49m\u001B[38;5;241;43m.\u001B[39;49m\u001B[43mprepare\u001B[49m\u001B[43m(\u001B[49m\n\u001B[1;32m      2\u001B[0m \u001B[43m    \u001B[49m\u001B[43mmodel\u001B[49m\u001B[43m,\u001B[49m\u001B[43m \u001B[49m\u001B[43moptimizer\u001B[49m\u001B[43m,\u001B[49m\u001B[43m \u001B[49m\u001B[43mtrain_dataloader\u001B[49m\u001B[43m,\u001B[49m\u001B[43m \u001B[49m\u001B[43mval_dataloader\u001B[49m\u001B[43m,\u001B[49m\u001B[43m \u001B[49m\u001B[43mlr_scheduler\u001B[49m\n\u001B[1;32m      3\u001B[0m \u001B[43m)\u001B[49m\n",
      "File \u001B[0;32m~/Developer/PycharmProjects/LunksNN/.venv/lib/python3.12/site-packages/accelerate/accelerator.py:1274\u001B[0m, in \u001B[0;36mAccelerator.prepare\u001B[0;34m(self, device_placement, *args)\u001B[0m\n\u001B[1;32m   1272\u001B[0m         \u001B[38;5;66;03m# MS-AMP will handle the device placement\u001B[39;00m\n\u001B[1;32m   1273\u001B[0m         device_placement \u001B[38;5;241m=\u001B[39m [\u001B[38;5;28;01mFalse\u001B[39;00m \u001B[38;5;28;01mfor\u001B[39;00m _ \u001B[38;5;129;01min\u001B[39;00m args]\n\u001B[0;32m-> 1274\u001B[0m     result \u001B[38;5;241m=\u001B[39m \u001B[38;5;28;43mtuple\u001B[39;49m\u001B[43m(\u001B[49m\n\u001B[1;32m   1275\u001B[0m \u001B[43m        \u001B[49m\u001B[38;5;28;43mself\u001B[39;49m\u001B[38;5;241;43m.\u001B[39;49m\u001B[43m_prepare_one\u001B[49m\u001B[43m(\u001B[49m\u001B[43mobj\u001B[49m\u001B[43m,\u001B[49m\u001B[43m \u001B[49m\u001B[43mfirst_pass\u001B[49m\u001B[38;5;241;43m=\u001B[39;49m\u001B[38;5;28;43;01mTrue\u001B[39;49;00m\u001B[43m,\u001B[49m\u001B[43m \u001B[49m\u001B[43mdevice_placement\u001B[49m\u001B[38;5;241;43m=\u001B[39;49m\u001B[43md\u001B[49m\u001B[43m)\u001B[49m\u001B[43m \u001B[49m\u001B[38;5;28;43;01mfor\u001B[39;49;00m\u001B[43m \u001B[49m\u001B[43mobj\u001B[49m\u001B[43m,\u001B[49m\u001B[43m \u001B[49m\u001B[43md\u001B[49m\u001B[43m \u001B[49m\u001B[38;5;129;43;01min\u001B[39;49;00m\u001B[43m \u001B[49m\u001B[38;5;28;43mzip\u001B[39;49m\u001B[43m(\u001B[49m\u001B[43margs\u001B[49m\u001B[43m,\u001B[49m\u001B[43m \u001B[49m\u001B[43mdevice_placement\u001B[49m\u001B[43m)\u001B[49m\n\u001B[1;32m   1276\u001B[0m \u001B[43m    \u001B[49m\u001B[43m)\u001B[49m\n\u001B[1;32m   1277\u001B[0m     result \u001B[38;5;241m=\u001B[39m \u001B[38;5;28mtuple\u001B[39m(\u001B[38;5;28mself\u001B[39m\u001B[38;5;241m.\u001B[39m_prepare_one(obj, device_placement\u001B[38;5;241m=\u001B[39md) \u001B[38;5;28;01mfor\u001B[39;00m obj, d \u001B[38;5;129;01min\u001B[39;00m \u001B[38;5;28mzip\u001B[39m(result, device_placement))\n\u001B[1;32m   1279\u001B[0m \u001B[38;5;28;01mif\u001B[39;00m tpu_should_fix_optimizer \u001B[38;5;129;01mor\u001B[39;00m (\u001B[38;5;28mself\u001B[39m\u001B[38;5;241m.\u001B[39mmixed_precision \u001B[38;5;241m==\u001B[39m \u001B[38;5;124m\"\u001B[39m\u001B[38;5;124mfp8\u001B[39m\u001B[38;5;124m\"\u001B[39m \u001B[38;5;129;01mand\u001B[39;00m \u001B[38;5;28mself\u001B[39m\u001B[38;5;241m.\u001B[39mfp8_recipe_handler\u001B[38;5;241m.\u001B[39mbackend \u001B[38;5;241m==\u001B[39m \u001B[38;5;124m\"\u001B[39m\u001B[38;5;124mTE\u001B[39m\u001B[38;5;124m\"\u001B[39m):\n\u001B[1;32m   1280\u001B[0m     \u001B[38;5;66;03m# 2. grabbing new model parameters\u001B[39;00m\n",
      "File \u001B[0;32m~/Developer/PycharmProjects/LunksNN/.venv/lib/python3.12/site-packages/accelerate/accelerator.py:1275\u001B[0m, in \u001B[0;36m<genexpr>\u001B[0;34m(.0)\u001B[0m\n\u001B[1;32m   1272\u001B[0m         \u001B[38;5;66;03m# MS-AMP will handle the device placement\u001B[39;00m\n\u001B[1;32m   1273\u001B[0m         device_placement \u001B[38;5;241m=\u001B[39m [\u001B[38;5;28;01mFalse\u001B[39;00m \u001B[38;5;28;01mfor\u001B[39;00m _ \u001B[38;5;129;01min\u001B[39;00m args]\n\u001B[1;32m   1274\u001B[0m     result \u001B[38;5;241m=\u001B[39m \u001B[38;5;28mtuple\u001B[39m(\n\u001B[0;32m-> 1275\u001B[0m         \u001B[38;5;28;43mself\u001B[39;49m\u001B[38;5;241;43m.\u001B[39;49m\u001B[43m_prepare_one\u001B[49m\u001B[43m(\u001B[49m\u001B[43mobj\u001B[49m\u001B[43m,\u001B[49m\u001B[43m \u001B[49m\u001B[43mfirst_pass\u001B[49m\u001B[38;5;241;43m=\u001B[39;49m\u001B[38;5;28;43;01mTrue\u001B[39;49;00m\u001B[43m,\u001B[49m\u001B[43m \u001B[49m\u001B[43mdevice_placement\u001B[49m\u001B[38;5;241;43m=\u001B[39;49m\u001B[43md\u001B[49m\u001B[43m)\u001B[49m \u001B[38;5;28;01mfor\u001B[39;00m obj, d \u001B[38;5;129;01min\u001B[39;00m \u001B[38;5;28mzip\u001B[39m(args, device_placement)\n\u001B[1;32m   1276\u001B[0m     )\n\u001B[1;32m   1277\u001B[0m     result \u001B[38;5;241m=\u001B[39m \u001B[38;5;28mtuple\u001B[39m(\u001B[38;5;28mself\u001B[39m\u001B[38;5;241m.\u001B[39m_prepare_one(obj, device_placement\u001B[38;5;241m=\u001B[39md) \u001B[38;5;28;01mfor\u001B[39;00m obj, d \u001B[38;5;129;01min\u001B[39;00m \u001B[38;5;28mzip\u001B[39m(result, device_placement))\n\u001B[1;32m   1279\u001B[0m \u001B[38;5;28;01mif\u001B[39;00m tpu_should_fix_optimizer \u001B[38;5;129;01mor\u001B[39;00m (\u001B[38;5;28mself\u001B[39m\u001B[38;5;241m.\u001B[39mmixed_precision \u001B[38;5;241m==\u001B[39m \u001B[38;5;124m\"\u001B[39m\u001B[38;5;124mfp8\u001B[39m\u001B[38;5;124m\"\u001B[39m \u001B[38;5;129;01mand\u001B[39;00m \u001B[38;5;28mself\u001B[39m\u001B[38;5;241m.\u001B[39mfp8_recipe_handler\u001B[38;5;241m.\u001B[39mbackend \u001B[38;5;241m==\u001B[39m \u001B[38;5;124m\"\u001B[39m\u001B[38;5;124mTE\u001B[39m\u001B[38;5;124m\"\u001B[39m):\n\u001B[1;32m   1280\u001B[0m     \u001B[38;5;66;03m# 2. grabbing new model parameters\u001B[39;00m\n",
      "File \u001B[0;32m~/Developer/PycharmProjects/LunksNN/.venv/lib/python3.12/site-packages/accelerate/accelerator.py:1151\u001B[0m, in \u001B[0;36mAccelerator._prepare_one\u001B[0;34m(self, obj, first_pass, device_placement)\u001B[0m\n\u001B[1;32m   1149\u001B[0m     \u001B[38;5;28;01mreturn\u001B[39;00m \u001B[38;5;28mself\u001B[39m\u001B[38;5;241m.\u001B[39mprepare_data_loader(obj, device_placement\u001B[38;5;241m=\u001B[39mdevice_placement)\n\u001B[1;32m   1150\u001B[0m \u001B[38;5;28;01melif\u001B[39;00m \u001B[38;5;28misinstance\u001B[39m(obj, torch\u001B[38;5;241m.\u001B[39mnn\u001B[38;5;241m.\u001B[39mModule):\n\u001B[0;32m-> 1151\u001B[0m     \u001B[38;5;28;01mreturn\u001B[39;00m \u001B[38;5;28;43mself\u001B[39;49m\u001B[38;5;241;43m.\u001B[39;49m\u001B[43mprepare_model\u001B[49m\u001B[43m(\u001B[49m\u001B[43mobj\u001B[49m\u001B[43m,\u001B[49m\u001B[43m \u001B[49m\u001B[43mdevice_placement\u001B[49m\u001B[38;5;241;43m=\u001B[39;49m\u001B[43mdevice_placement\u001B[49m\u001B[43m)\u001B[49m\n\u001B[1;32m   1152\u001B[0m \u001B[38;5;28;01melif\u001B[39;00m \u001B[38;5;28misinstance\u001B[39m(obj, torch\u001B[38;5;241m.\u001B[39moptim\u001B[38;5;241m.\u001B[39mOptimizer):\n\u001B[1;32m   1153\u001B[0m     optimizer \u001B[38;5;241m=\u001B[39m \u001B[38;5;28mself\u001B[39m\u001B[38;5;241m.\u001B[39mprepare_optimizer(obj, device_placement\u001B[38;5;241m=\u001B[39mdevice_placement)\n",
      "File \u001B[0;32m~/Developer/PycharmProjects/LunksNN/.venv/lib/python3.12/site-packages/accelerate/accelerator.py:1341\u001B[0m, in \u001B[0;36mAccelerator.prepare_model\u001B[0;34m(self, model, device_placement, evaluation_mode)\u001B[0m\n\u001B[1;32m   1339\u001B[0m model\u001B[38;5;241m.\u001B[39m_original_forward \u001B[38;5;241m=\u001B[39m model\u001B[38;5;241m.\u001B[39mforward\n\u001B[1;32m   1340\u001B[0m model_forward_func \u001B[38;5;241m=\u001B[39m model\u001B[38;5;241m.\u001B[39mforward\u001B[38;5;241m.\u001B[39m\u001B[38;5;18m__func__\u001B[39m \u001B[38;5;28;01mif\u001B[39;00m \u001B[38;5;28mhasattr\u001B[39m(model\u001B[38;5;241m.\u001B[39mforward, \u001B[38;5;124m\"\u001B[39m\u001B[38;5;124m__func__\u001B[39m\u001B[38;5;124m\"\u001B[39m) \u001B[38;5;28;01melse\u001B[39;00m model\u001B[38;5;241m.\u001B[39mforward\n\u001B[0;32m-> 1341\u001B[0m autocast_context \u001B[38;5;241m=\u001B[39m \u001B[43mget_mixed_precision_context_manager\u001B[49m\u001B[43m(\u001B[49m\u001B[38;5;28;43mself\u001B[39;49m\u001B[38;5;241;43m.\u001B[39;49m\u001B[43mnative_amp\u001B[49m\u001B[43m,\u001B[49m\u001B[43m \u001B[49m\u001B[38;5;28;43mself\u001B[39;49m\u001B[38;5;241;43m.\u001B[39;49m\u001B[43mautocast_handler\u001B[49m\u001B[43m)\u001B[49m\n\u001B[1;32m   1342\u001B[0m new_forward \u001B[38;5;241m=\u001B[39m autocast_context(model_forward_func)\n\u001B[1;32m   1343\u001B[0m \u001B[38;5;28;01mif\u001B[39;00m \u001B[38;5;28mhasattr\u001B[39m(model\u001B[38;5;241m.\u001B[39mforward, \u001B[38;5;124m\"\u001B[39m\u001B[38;5;124m__func__\u001B[39m\u001B[38;5;124m\"\u001B[39m):\n",
      "File \u001B[0;32m~/Developer/PycharmProjects/LunksNN/.venv/lib/python3.12/site-packages/accelerate/utils/modeling.py:1785\u001B[0m, in \u001B[0;36mget_mixed_precision_context_manager\u001B[0;34m(native_amp, autocast_kwargs)\u001B[0m\n\u001B[1;32m   1779\u001B[0m device_type \u001B[38;5;241m=\u001B[39m (\n\u001B[1;32m   1780\u001B[0m     \u001B[38;5;124m\"\u001B[39m\u001B[38;5;124mcuda\u001B[39m\u001B[38;5;124m\"\u001B[39m\n\u001B[1;32m   1781\u001B[0m     \u001B[38;5;28;01mif\u001B[39;00m (state\u001B[38;5;241m.\u001B[39mdistributed_type \u001B[38;5;241m==\u001B[39m DistributedType\u001B[38;5;241m.\u001B[39mXLA \u001B[38;5;129;01mand\u001B[39;00m is_torch_xla_available(check_is_gpu\u001B[38;5;241m=\u001B[39m\u001B[38;5;28;01mTrue\u001B[39;00m))\n\u001B[1;32m   1782\u001B[0m     \u001B[38;5;28;01melse\u001B[39;00m state\u001B[38;5;241m.\u001B[39mdevice\u001B[38;5;241m.\u001B[39mtype\n\u001B[1;32m   1783\u001B[0m )\n\u001B[1;32m   1784\u001B[0m \u001B[38;5;28;01mif\u001B[39;00m state\u001B[38;5;241m.\u001B[39mmixed_precision \u001B[38;5;241m==\u001B[39m \u001B[38;5;124m\"\u001B[39m\u001B[38;5;124mfp16\u001B[39m\u001B[38;5;124m\"\u001B[39m:\n\u001B[0;32m-> 1785\u001B[0m     \u001B[38;5;28;01mreturn\u001B[39;00m \u001B[43mtorch\u001B[49m\u001B[38;5;241;43m.\u001B[39;49m\u001B[43mautocast\u001B[49m\u001B[43m(\u001B[49m\u001B[43mdevice_type\u001B[49m\u001B[38;5;241;43m=\u001B[39;49m\u001B[43mdevice_type\u001B[49m\u001B[43m,\u001B[49m\u001B[43m \u001B[49m\u001B[43mdtype\u001B[49m\u001B[38;5;241;43m=\u001B[39;49m\u001B[43mtorch\u001B[49m\u001B[38;5;241;43m.\u001B[39;49m\u001B[43mfloat16\u001B[49m\u001B[43m,\u001B[49m\u001B[43m \u001B[49m\u001B[38;5;241;43m*\u001B[39;49m\u001B[38;5;241;43m*\u001B[39;49m\u001B[43mautocast_kwargs\u001B[49m\u001B[43m)\u001B[49m\n\u001B[1;32m   1786\u001B[0m \u001B[38;5;28;01melif\u001B[39;00m state\u001B[38;5;241m.\u001B[39mmixed_precision \u001B[38;5;241m==\u001B[39m \u001B[38;5;124m\"\u001B[39m\u001B[38;5;124mbf16\u001B[39m\u001B[38;5;124m\"\u001B[39m \u001B[38;5;129;01mand\u001B[39;00m state\u001B[38;5;241m.\u001B[39mdistributed_type \u001B[38;5;129;01min\u001B[39;00m [\n\u001B[1;32m   1787\u001B[0m     DistributedType\u001B[38;5;241m.\u001B[39mNO,\n\u001B[1;32m   1788\u001B[0m     DistributedType\u001B[38;5;241m.\u001B[39mMULTI_CPU,\n\u001B[0;32m   (...)\u001B[0m\n\u001B[1;32m   1794\u001B[0m     DistributedType\u001B[38;5;241m.\u001B[39mXLA,\n\u001B[1;32m   1795\u001B[0m ]:\n\u001B[1;32m   1796\u001B[0m     \u001B[38;5;28;01mreturn\u001B[39;00m torch\u001B[38;5;241m.\u001B[39mautocast(device_type\u001B[38;5;241m=\u001B[39mdevice_type, dtype\u001B[38;5;241m=\u001B[39mtorch\u001B[38;5;241m.\u001B[39mbfloat16, \u001B[38;5;241m*\u001B[39m\u001B[38;5;241m*\u001B[39mautocast_kwargs)\n",
      "File \u001B[0;32m~/Developer/PycharmProjects/LunksNN/.venv/lib/python3.12/site-packages/torch/amp/autocast_mode.py:241\u001B[0m, in \u001B[0;36mautocast.__init__\u001B[0;34m(self, device_type, dtype, enabled, cache_enabled)\u001B[0m\n\u001B[1;32m    239\u001B[0m     \u001B[38;5;28mself\u001B[39m\u001B[38;5;241m.\u001B[39mfast_dtype \u001B[38;5;241m=\u001B[39m \u001B[38;5;28mself\u001B[39m\u001B[38;5;241m.\u001B[39mcustom_device_mod\u001B[38;5;241m.\u001B[39mget_autocast_dtype()\n\u001B[1;32m    240\u001B[0m \u001B[38;5;28;01melse\u001B[39;00m:\n\u001B[0;32m--> 241\u001B[0m     \u001B[38;5;28;01mraise\u001B[39;00m \u001B[38;5;167;01mRuntimeError\u001B[39;00m(\n\u001B[1;32m    242\u001B[0m         \u001B[38;5;124mf\u001B[39m\u001B[38;5;124m\"\u001B[39m\u001B[38;5;124mUser specified an unsupported autocast device_type \u001B[39m\u001B[38;5;124m'\u001B[39m\u001B[38;5;132;01m{\u001B[39;00m\u001B[38;5;28mself\u001B[39m\u001B[38;5;241m.\u001B[39mdevice\u001B[38;5;132;01m}\u001B[39;00m\u001B[38;5;124m'\u001B[39m\u001B[38;5;124m\"\u001B[39m\n\u001B[1;32m    243\u001B[0m     )\n\u001B[1;32m    244\u001B[0m \u001B[38;5;28mself\u001B[39m\u001B[38;5;241m.\u001B[39m_cache_enabled \u001B[38;5;241m=\u001B[39m torch\u001B[38;5;241m.\u001B[39mis_autocast_cache_enabled()\n\u001B[1;32m    245\u001B[0m \u001B[38;5;28;01mif\u001B[39;00m (\n\u001B[1;32m    246\u001B[0m     enabled\n\u001B[1;32m    247\u001B[0m     \u001B[38;5;129;01mand\u001B[39;00m torch\u001B[38;5;241m.\u001B[39mcuda\u001B[38;5;241m.\u001B[39mamp\u001B[38;5;241m.\u001B[39mcommon\u001B[38;5;241m.\u001B[39mamp_definitely_not_available()\n\u001B[1;32m    248\u001B[0m     \u001B[38;5;129;01mand\u001B[39;00m \u001B[38;5;28mself\u001B[39m\u001B[38;5;241m.\u001B[39mdevice \u001B[38;5;241m==\u001B[39m \u001B[38;5;124m\"\u001B[39m\u001B[38;5;124mcuda\u001B[39m\u001B[38;5;124m\"\u001B[39m\n\u001B[1;32m    249\u001B[0m ):\n",
      "\u001B[0;31mRuntimeError\u001B[0m: User specified an unsupported autocast device_type 'mps'"
     ]
    }
   ],
   "source": [
    "model, optimizer, train_dataloader, val_dataloader, lr_scheduler = accelerator.prepare(\n",
    "    model, optimizer, train_dataloader, val_dataloader, lr_scheduler\n",
    ")"
   ],
   "metadata": {
    "collapsed": false,
    "ExecuteTime": {
     "end_time": "2024-05-23T17:32:46.024116Z",
     "start_time": "2024-05-23T17:32:45.742428Z"
    }
   },
   "id": "f9849f78977eac63",
   "execution_count": 10
  },
  {
   "cell_type": "code",
   "outputs": [],
   "source": [
    "train(\n",
    "    model=model,\n",
    "    optimizer=optimizer,\n",
    "    train_dataloader=train_dataloader,\n",
    "    val_dataloader=val_dataloader,\n",
    "    loss_function=loss_fn,\n",
    "    metric_function=metric_fn,\n",
    "    lr_scheduler=lr_scheduler,\n",
    "    accelerator=accelerator,\n",
    "    epoch_num=EPOCH_NUM,\n",
    "    checkpointer=checkpointer,\n",
    "    tb_logger=tensorboard_logger,\n",
    "    save_on_val=True,\n",
    "    show_every_x_batch=5\n",
    ")"
   ],
   "metadata": {
    "collapsed": false,
    "ExecuteTime": {
     "start_time": "2024-05-23T17:32:46.025257Z"
    }
   },
   "id": "f9b77c8ad0ae9b77",
   "execution_count": null
  },
  {
   "cell_type": "code",
   "outputs": [],
   "source": [
    "model = UNet(in_channels=3, out_channels=1)\n",
    "model = load_checkpoint(\n",
    "    model=model, load_path=pjoin(CHECKPOINTS_DIR, \"model_checkpoint_best.pt\")\n",
    ")\n",
    "model = model.to(DEVICE)\n",
    "model.eval()"
   ],
   "metadata": {
    "collapsed": false,
    "ExecuteTime": {
     "end_time": "2024-05-23T17:32:46.028946Z",
     "start_time": "2024-05-23T17:32:46.026337Z"
    }
   },
   "id": "941ce5ddfc64a7af",
   "execution_count": null
  },
  {
   "cell_type": "code",
   "outputs": [],
   "source": [
    "thresold = 0.8\n",
    "for sample_idx in range(test_size):\n",
    "    image, target = test_dataset[sample_idx]\n",
    "    preds = F.sigmoid(model(image.unsqueeze(0).to(DEVICE))).squeeze(0)\n",
    "    binary_preds = (preds > thresold)\n",
    "    \n",
    "    a = metric_fn(preds, target)\n",
    "\n",
    "    fig, ax = plt.subplots(1, 3, figsize=(9, 18))\n",
    "    ax[0].imshow(image.numpy().transpose(1, 2, 0).astype(np.uint8))\n",
    "    ax[0].set_title(\"Image\") \n",
    "    ax[1].imshow(target.numpy().transpose(1, 2, 0).astype(np.uint8))\n",
    "    ax[1].set_title(\"Mask\")\n",
    "    ax[2].imshow(binary_preds.cpu().numpy()[0])\n",
    "    ax[2].set_title(\"Target\")\n",
    "    plt.show()\n",
    "  "
   ],
   "metadata": {
    "collapsed": false,
    "ExecuteTime": {
     "start_time": "2024-05-23T17:32:46.027379Z"
    }
   },
   "id": "5d250dadc8b8ea6c"
  },
  {
   "cell_type": "code",
   "outputs": [],
   "source": [],
   "metadata": {
    "collapsed": false,
    "ExecuteTime": {
     "start_time": "2024-05-23T17:32:46.028197Z"
    }
   },
   "id": "4da93370b0f4cc0"
  }
 ],
 "metadata": {
  "kernelspec": {
   "display_name": "Python 3",
   "language": "python",
   "name": "python3"
  },
  "language_info": {
   "codemirror_mode": {
    "name": "ipython",
    "version": 2
   },
   "file_extension": ".py",
   "mimetype": "text/x-python",
   "name": "python",
   "nbconvert_exporter": "python",
   "pygments_lexer": "ipython2",
   "version": "2.7.6"
  }
 },
 "nbformat": 4,
 "nbformat_minor": 5
}
